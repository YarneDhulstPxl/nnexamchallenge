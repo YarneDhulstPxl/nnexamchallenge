{
  "nbformat": 4,
  "nbformat_minor": 0,
  "metadata": {
    "colab": {
      "name": "nnexamchallenge01.ipynb",
      "provenance": [],
      "collapsed_sections": []
    },
    "kernelspec": {
      "name": "python3",
      "display_name": "Python 3"
    },
    "accelerator": "GPU"
  },
  "cells": [
    {
      "cell_type": "code",
      "metadata": {
        "id": "nQNqhxQPVO5Z",
        "colab_type": "code",
        "colab": {}
      },
      "source": [
        "%reload_ext autoreload\n",
        "%autoreload 2\n",
        "%matplotlib inline"
      ],
      "execution_count": 0,
      "outputs": []
    },
    {
      "cell_type": "code",
      "metadata": {
        "id": "yEP91cXmXRKg",
        "colab_type": "code",
        "colab": {
          "base_uri": "https://localhost:8080/",
          "height": 64
        },
        "outputId": "75e2769f-7b33-4f82-cd59-421064027265"
      },
      "source": [
        "from google.colab import files\n",
        "import zipfile\n",
        "import io\n",
        "import os\n",
        "import matplotlib.image as mpimg\n",
        "import random\n",
        "import cv2\n",
        "import tensorflow as tf\n",
        "import matplotlib.pyplot as plt\n",
        "import matplotlib.image as mpimg"
      ],
      "execution_count": 2,
      "outputs": [
        {
          "output_type": "display_data",
          "data": {
            "text/html": [
              "<p style=\"color: red;\">\n",
              "The default version of TensorFlow in Colab will soon switch to TensorFlow 2.x.<br>\n",
              "We recommend you <a href=\"https://www.tensorflow.org/guide/migrate\" target=\"_blank\">upgrade</a> now \n",
              "or ensure your notebook will continue to use TensorFlow 1.x via the <code>%tensorflow_version 1.x</code> magic:\n",
              "<a href=\"https://colab.research.google.com/notebooks/tensorflow_version.ipynb\" target=\"_blank\">more info</a>.</p>\n"
            ],
            "text/plain": [
              "<IPython.core.display.HTML object>"
            ]
          },
          "metadata": {
            "tags": []
          }
        }
      ]
    },
    {
      "cell_type": "code",
      "metadata": {
        "id": "wiTEWOa-YX3E",
        "colab_type": "code",
        "outputId": "9fd00e00-3cdb-45aa-a92b-a560b0a3a0da",
        "colab": {
          "base_uri": "https://localhost:8080/",
          "height": 124
        }
      },
      "source": [
        "from google.colab import drive\n",
        "drive.mount('/content/gdrive')"
      ],
      "execution_count": 3,
      "outputs": [
        {
          "output_type": "stream",
          "text": [
            "Go to this URL in a browser: https://accounts.google.com/o/oauth2/auth?client_id=947318989803-6bn6qk8qdgf4n4g3pfee6491hc0brc4i.apps.googleusercontent.com&redirect_uri=urn%3aietf%3awg%3aoauth%3a2.0%3aoob&response_type=code&scope=email%20https%3a%2f%2fwww.googleapis.com%2fauth%2fdocs.test%20https%3a%2f%2fwww.googleapis.com%2fauth%2fdrive%20https%3a%2f%2fwww.googleapis.com%2fauth%2fdrive.photos.readonly%20https%3a%2f%2fwww.googleapis.com%2fauth%2fpeopleapi.readonly\n",
            "\n",
            "Enter your authorization code:\n",
            "··········\n",
            "Mounted at /content/gdrive\n"
          ],
          "name": "stdout"
        }
      ]
    },
    {
      "cell_type": "code",
      "metadata": {
        "id": "t0fBSJ-DY8CP",
        "colab_type": "code",
        "colab": {}
      },
      "source": [
        "!unzip -q \"/content/gdrive/My Drive/dataset/newdata.zip\""
      ],
      "execution_count": 0,
      "outputs": []
    },
    {
      "cell_type": "code",
      "metadata": {
        "id": "nGBW_XcAp_uo",
        "colab_type": "code",
        "outputId": "7ff46899-8f13-49db-d3bd-9058975427bf",
        "colab": {
          "base_uri": "https://localhost:8080/",
          "height": 34
        }
      },
      "source": [
        "!ls newdata/"
      ],
      "execution_count": 5,
      "outputs": [
        {
          "output_type": "stream",
          "text": [
            "data\n"
          ],
          "name": "stdout"
        }
      ]
    },
    {
      "cell_type": "code",
      "metadata": {
        "id": "JdWVfAqqqL2i",
        "colab_type": "code",
        "outputId": "6a2ee5ba-efac-42b7-8009-9147194026c8",
        "colab": {
          "base_uri": "https://localhost:8080/",
          "height": 34
        }
      },
      "source": [
        "batch_size = 32\n",
        "from tensorflow.keras.preprocessing.image import ImageDataGenerator\n",
        "# All images will be rescaled by 1./255\n",
        "train_datagen = ImageDataGenerator(rescale=1/255)\n",
        "# Flow training images in batches of 128 using train_datagen generator\n",
        "train_generator = train_datagen.flow_from_directory(\n",
        "        'newdata/data/train',  # This is the source directory for training images\n",
        "        target_size=(200, 200),  # All images will be resized to 200 x 200\n",
        "        batch_size=batch_size,\n",
        "        # Specify the classes explicitly\n",
        "        classes = ['bike','car','motor','truck','van'],\n",
        "        # Since we use categorical_crossentropy loss, we need categorical labels\n",
        "        class_mode='categorical')"
      ],
      "execution_count": 6,
      "outputs": [
        {
          "output_type": "stream",
          "text": [
            "Found 2764 images belonging to 5 classes.\n"
          ],
          "name": "stdout"
        }
      ]
    },
    {
      "cell_type": "code",
      "metadata": {
        "id": "RM8o7bG-qft0",
        "colab_type": "code",
        "colab": {
          "base_uri": "https://localhost:8080/",
          "height": 89
        },
        "outputId": "d7b714de-3246-43c0-c3e7-7afd294514fb"
      },
      "source": [
        "\n",
        "\n",
        "model = tf.keras.models.Sequential([\n",
        "    # Note the input shape is the desired size of the image 200x 200 with 3 bytes color\n",
        "    # The first convolution\n",
        "    tf.keras.layers.Conv2D(16, (3,3), activation='relu', input_shape=(200, 200, 3)),\n",
        "    tf.keras.layers.MaxPooling2D(2, 2),\n",
        "    # The second convolution\n",
        "    tf.keras.layers.Conv2D(32, (3,3), activation='relu'),\n",
        "    tf.keras.layers.MaxPooling2D(2,2),\n",
        "    # The third convolution\n",
        "    tf.keras.layers.Conv2D(64, (3,3), activation='relu'),\n",
        "    tf.keras.layers.MaxPooling2D(2,2),\n",
        "    # The fourth convolution\n",
        "    tf.keras.layers.Conv2D(64, (3,3), activation='relu'),\n",
        "    tf.keras.layers.MaxPooling2D(2,2),\n",
        "    # The fifth convolution\n",
        "    tf.keras.layers.Conv2D(64, (3,3), activation='relu'),\n",
        "    tf.keras.layers.MaxPooling2D(2,2),\n",
        "    # Flatten the results to feed into a dense layer\n",
        "    tf.keras.layers.Flatten(),\n",
        "    # 128 neuron in the fully-connected layer\n",
        "    tf.keras.layers.Dense(128, activation='relu'),\n",
        "    # 5 output neurons for 5 classes with the softmax activation\n",
        "    tf.keras.layers.Dense(5, activation='softmax')\n",
        "])"
      ],
      "execution_count": 7,
      "outputs": [
        {
          "output_type": "stream",
          "text": [
            "WARNING:tensorflow:From /usr/local/lib/python3.6/dist-packages/tensorflow_core/python/ops/resource_variable_ops.py:1630: calling BaseResourceVariable.__init__ (from tensorflow.python.ops.resource_variable_ops) with constraint is deprecated and will be removed in a future version.\n",
            "Instructions for updating:\n",
            "If using Keras pass *_constraint arguments to layers.\n"
          ],
          "name": "stdout"
        }
      ]
    },
    {
      "cell_type": "code",
      "metadata": {
        "id": "5TSxY6Qjq8iR",
        "colab_type": "code",
        "outputId": "bc122888-3b31-4d32-847b-89b429ac3491",
        "colab": {
          "base_uri": "https://localhost:8080/",
          "height": 607
        }
      },
      "source": [
        "model.summary()"
      ],
      "execution_count": 8,
      "outputs": [
        {
          "output_type": "stream",
          "text": [
            "Model: \"sequential\"\n",
            "_________________________________________________________________\n",
            "Layer (type)                 Output Shape              Param #   \n",
            "=================================================================\n",
            "conv2d (Conv2D)              (None, 198, 198, 16)      448       \n",
            "_________________________________________________________________\n",
            "max_pooling2d (MaxPooling2D) (None, 99, 99, 16)        0         \n",
            "_________________________________________________________________\n",
            "conv2d_1 (Conv2D)            (None, 97, 97, 32)        4640      \n",
            "_________________________________________________________________\n",
            "max_pooling2d_1 (MaxPooling2 (None, 48, 48, 32)        0         \n",
            "_________________________________________________________________\n",
            "conv2d_2 (Conv2D)            (None, 46, 46, 64)        18496     \n",
            "_________________________________________________________________\n",
            "max_pooling2d_2 (MaxPooling2 (None, 23, 23, 64)        0         \n",
            "_________________________________________________________________\n",
            "conv2d_3 (Conv2D)            (None, 21, 21, 64)        36928     \n",
            "_________________________________________________________________\n",
            "max_pooling2d_3 (MaxPooling2 (None, 10, 10, 64)        0         \n",
            "_________________________________________________________________\n",
            "conv2d_4 (Conv2D)            (None, 8, 8, 64)          36928     \n",
            "_________________________________________________________________\n",
            "max_pooling2d_4 (MaxPooling2 (None, 4, 4, 64)          0         \n",
            "_________________________________________________________________\n",
            "flatten (Flatten)            (None, 1024)              0         \n",
            "_________________________________________________________________\n",
            "dense (Dense)                (None, 128)               131200    \n",
            "_________________________________________________________________\n",
            "dense_1 (Dense)              (None, 5)                 645       \n",
            "=================================================================\n",
            "Total params: 229,285\n",
            "Trainable params: 229,285\n",
            "Non-trainable params: 0\n",
            "_________________________________________________________________\n"
          ],
          "name": "stdout"
        }
      ]
    },
    {
      "cell_type": "code",
      "metadata": {
        "id": "VYmIeFj0rAEJ",
        "colab_type": "code",
        "colab": {}
      },
      "source": [
        "from tensorflow.keras.optimizers import RMSprop\n",
        "\n",
        "model.compile(loss='categorical_crossentropy',\n",
        "              optimizer=RMSprop(lr=0.001),\n",
        "              metrics=['acc'])"
      ],
      "execution_count": 0,
      "outputs": []
    },
    {
      "cell_type": "code",
      "metadata": {
        "id": "2x6gOJUYrDha",
        "colab_type": "code",
        "colab": {}
      },
      "source": [
        "total_sample=train_generator.n"
      ],
      "execution_count": 0,
      "outputs": []
    },
    {
      "cell_type": "code",
      "metadata": {
        "id": "K5h0wBQQrLet",
        "colab_type": "code",
        "colab": {}
      },
      "source": [
        "n_epochs = 30"
      ],
      "execution_count": 0,
      "outputs": []
    },
    {
      "cell_type": "code",
      "metadata": {
        "id": "0stX9y48rSFK",
        "colab_type": "code",
        "outputId": "551db27d-cc89-4459-911d-b174e48402af",
        "colab": {
          "base_uri": "https://localhost:8080/",
          "height": 1000
        }
      },
      "source": [
        "history = model.fit_generator(\n",
        "        train_generator, \n",
        "        steps_per_epoch=int(total_sample/batch_size),  \n",
        "        epochs=n_epochs,\n",
        "        verbose=1)"
      ],
      "execution_count": 12,
      "outputs": [
        {
          "output_type": "stream",
          "text": [
            "Epoch 1/30\n",
            "86/86 [==============================] - 8s 92ms/step - loss: 1.5184 - acc: 0.3730\n",
            "Epoch 2/30\n",
            "86/86 [==============================] - 4s 51ms/step - loss: 1.1961 - acc: 0.5183\n",
            "Epoch 3/30\n",
            "86/86 [==============================] - 4s 51ms/step - loss: 1.0667 - acc: 0.5673\n",
            "Epoch 4/30\n",
            "86/86 [==============================] - 4s 51ms/step - loss: 0.9069 - acc: 0.6343\n",
            "Epoch 5/30\n",
            "86/86 [==============================] - 4s 51ms/step - loss: 0.7842 - acc: 0.7002\n",
            "Epoch 6/30\n",
            "86/86 [==============================] - 4s 50ms/step - loss: 0.7135 - acc: 0.7371\n",
            "Epoch 7/30\n",
            "86/86 [==============================] - 4s 51ms/step - loss: 0.5840 - acc: 0.7851\n",
            "Epoch 8/30\n",
            "86/86 [==============================] - 4s 50ms/step - loss: 0.4893 - acc: 0.8184\n",
            "Epoch 9/30\n",
            "86/86 [==============================] - 4s 51ms/step - loss: 0.3842 - acc: 0.8723\n",
            "Epoch 10/30\n",
            "86/86 [==============================] - 4s 50ms/step - loss: 0.3319 - acc: 0.8825\n",
            "Epoch 11/30\n",
            "86/86 [==============================] - 4s 51ms/step - loss: 0.2559 - acc: 0.9081\n",
            "Epoch 12/30\n",
            "86/86 [==============================] - 4s 50ms/step - loss: 0.1999 - acc: 0.9319\n",
            "Epoch 13/30\n",
            "86/86 [==============================] - 4s 50ms/step - loss: 0.1542 - acc: 0.9583\n",
            "Epoch 14/30\n",
            "86/86 [==============================] - 4s 51ms/step - loss: 0.1195 - acc: 0.9619\n",
            "Epoch 15/30\n",
            "86/86 [==============================] - 4s 51ms/step - loss: 0.1342 - acc: 0.9597\n",
            "Epoch 16/30\n",
            "86/86 [==============================] - 4s 51ms/step - loss: 0.0667 - acc: 0.9777\n",
            "Epoch 17/30\n",
            "86/86 [==============================] - 4s 50ms/step - loss: 0.0829 - acc: 0.9777\n",
            "Epoch 18/30\n",
            "86/86 [==============================] - 4s 51ms/step - loss: 0.1054 - acc: 0.9742\n",
            "Epoch 19/30\n",
            "86/86 [==============================] - 4s 49ms/step - loss: 0.0856 - acc: 0.9749\n",
            "Epoch 20/30\n",
            "86/86 [==============================] - 4s 50ms/step - loss: 0.0670 - acc: 0.9813\n",
            "Epoch 21/30\n",
            "86/86 [==============================] - 4s 50ms/step - loss: 0.0529 - acc: 0.9846\n",
            "Epoch 22/30\n",
            "86/86 [==============================] - 4s 51ms/step - loss: 0.0438 - acc: 0.9872\n",
            "Epoch 23/30\n",
            "86/86 [==============================] - 4s 51ms/step - loss: 0.0593 - acc: 0.9806\n",
            "Epoch 24/30\n",
            "86/86 [==============================] - 4s 50ms/step - loss: 0.0556 - acc: 0.9821\n",
            "Epoch 25/30\n",
            "86/86 [==============================] - 4s 50ms/step - loss: 0.0369 - acc: 0.9876\n",
            "Epoch 26/30\n",
            "86/86 [==============================] - 4s 50ms/step - loss: 0.0846 - acc: 0.9769\n",
            "Epoch 27/30\n",
            "86/86 [==============================] - 4s 50ms/step - loss: 0.0429 - acc: 0.9891\n",
            "Epoch 28/30\n",
            "86/86 [==============================] - 4s 49ms/step - loss: 0.0532 - acc: 0.9865\n",
            "Epoch 29/30\n",
            "86/86 [==============================] - 4s 49ms/step - loss: 0.0392 - acc: 0.9900\n",
            "Epoch 30/30\n",
            "86/86 [==============================] - 4s 50ms/step - loss: 0.0490 - acc: 0.9844\n"
          ],
          "name": "stdout"
        }
      ]
    },
    {
      "cell_type": "code",
      "metadata": {
        "id": "ZL-iD-iZrSDQ",
        "colab_type": "code",
        "outputId": "6c556248-00ad-4583-fa9f-de7b0d672bea",
        "colab": {
          "base_uri": "https://localhost:8080/",
          "height": 330
        }
      },
      "source": [
        "plt.figure(figsize=(7,4))\n",
        "plt.plot([i+1 for i in range(n_epochs)],history.history['acc'],'-o',c='k',lw=2,markersize=9)\n",
        "plt.grid(True)\n",
        "plt.title(\"Training accuracy with epochs\\n\",fontsize=18)\n",
        "plt.xlabel(\"Training epochs\",fontsize=15)\n",
        "plt.ylabel(\"Training accuracy\",fontsize=15)\n",
        "plt.xticks(fontsize=15)\n",
        "plt.yticks(fontsize=15)\n",
        "plt.show()"
      ],
      "execution_count": 13,
      "outputs": [
        {
          "output_type": "display_data",
          "data": {
            "image/png": "[encoded data removed]",
            "text/plain": [
              "<Figure size 504x288 with 1 Axes>"
            ]
          },
          "metadata": {
            "tags": []
          }
        }
      ]
    },
    {
      "cell_type": "code",
      "metadata": {
        "id": "JhJNlh7isfPX",
        "colab_type": "code",
        "outputId": "169656a5-3ee2-4956-8dc9-9616ea8bb7a0",
        "colab": {
          "base_uri": "https://localhost:8080/",
          "height": 330
        }
      },
      "source": [
        "plt.figure(figsize=(7,4))\n",
        "plt.plot([i+1 for i in range(n_epochs)],history.history['loss'],'-o',c='k',lw=2,markersize=9)\n",
        "plt.grid(True)\n",
        "plt.title(\"Training loss with epochs\\n\",fontsize=18)\n",
        "plt.xlabel(\"Training epochs\",fontsize=15)\n",
        "plt.ylabel(\"Training loss\",fontsize=15)\n",
        "plt.xticks(fontsize=15)\n",
        "plt.yticks(fontsize=15)\n",
        "plt.show()"
      ],
      "execution_count": 14,
      "outputs": [
        {
          "output_type": "display_data",
          "data": {
            "image/png": "[encoded data removed]",
            "text/plain": [
              "<Figure size 504x288 with 1 Axes>"
            ]
          },
          "metadata": {
            "tags": []
          }
        }
      ]
    },
    {
      "cell_type": "code",
      "metadata": {
        "id": "bQtOMhFUshv1",
        "colab_type": "code",
        "colab": {}
      },
      "source": [
        "def train_CNN(train_directory,target_size=(200,200), classes=None,\n",
        "              batch_size=128,num_epochs=20,num_classes=5,verbose=0):\n",
        "    \"\"\"\n",
        "    Trains a conv net for the flowers dataset with a 5-class classifiction output\n",
        "    Also provides suitable arguments for extending it to other similar apps\n",
        "    \n",
        "    Arguments:\n",
        "            train_directory: The directory where the training images are stored in separate folders.\n",
        "                            These folders should be named as per the classes.\n",
        "            target_size: Target size for the training images. A tuple e.g. (200,200)\n",
        "            classes: A Python list with the classes \n",
        "            batch_size: Batch size for training\n",
        "            num_epochs: Number of epochs for training\n",
        "            num_classes: Number of output classes to consider\n",
        "            verbose: Verbosity level of the training, passed on to the `fit_generator` method\n",
        "    Returns:\n",
        "            A trained conv net model\n",
        "    \n",
        "    \"\"\"\n",
        "    from tensorflow.keras.preprocessing.image import ImageDataGenerator\n",
        "    import tensorflow as tf\n",
        "    from tensorflow.keras.optimizers import RMSprop\n",
        "    \n",
        "    # ImageDataGenerator object instance with scaling\n",
        "    train_datagen = ImageDataGenerator(rescale=1/255)\n",
        "\n",
        "    # Flow training images in batches using the generator\n",
        "    train_generator = train_datagen.flow_from_directory(\n",
        "            train_directory,  # This is the source directory for training images\n",
        "            target_size=target_size,  # All images will be resized to 200 x 200\n",
        "            batch_size=batch_size,\n",
        "            # Specify the classes explicitly\n",
        "            classes = classes,\n",
        "            # Since we use categorical_crossentropy loss, we need categorical labels\n",
        "            class_mode='categorical')\n",
        "    \n",
        "    # ImageDataGenerator object instance with scaling\n",
        "    val_datagen = ImageDataGenerator(rescale=1/255)\n",
        "    # Flow training images in batches using the generator\n",
        "    val_generator = val_datagen.flow_from_directory(\n",
        "            \"newdata/data/val/\",  # This is the source directory for val images\n",
        "            target_size=(200,200),  # All images will be resized to 200 x 200\n",
        "            batch_size=128,\n",
        "            # Specify the classes explicitly\n",
        "            classes = ['bike','car','motor','truck','van'],\n",
        "            # Since we use categorical_crossentropy loss, we need categorical labels\n",
        "            class_mode='categorical')\n",
        "    \n",
        "    input_shape = tuple(list(target_size)+[3])\n",
        "    \n",
        "    # Model architecture\n",
        "    model = tf.keras.models.Sequential([\n",
        "    # Note the input shape is the desired size of the image 200x 200 with 3 bytes color\n",
        "    # The first convolution\n",
        "    tf.keras.layers.Conv2D(16, (3,3), activation='relu', input_shape=input_shape),\n",
        "    tf.keras.layers.MaxPooling2D(2, 2),\n",
        "    # The second convolution\n",
        "    tf.keras.layers.Conv2D(32, (3,3), activation='relu'),\n",
        "    tf.keras.layers.MaxPooling2D(2,2),\n",
        "    # The third convolution\n",
        "    tf.keras.layers.Conv2D(64, (3,3), activation='relu'),\n",
        "    tf.keras.layers.MaxPooling2D(2,2),\n",
        "    # The fourth convolution\n",
        "    tf.keras.layers.Conv2D(64, (3,3), activation='relu'),\n",
        "    tf.keras.layers.MaxPooling2D(2,2),\n",
        "    # The fifth convolution\n",
        "    tf.keras.layers.Conv2D(64, (3,3), activation='relu'),\n",
        "    tf.keras.layers.MaxPooling2D(2,2),\n",
        "    # Flatten the results to feed into a dense layer\n",
        "    tf.keras.layers.Flatten(),\n",
        "    # 512 neuron in the fully-connected layer\n",
        "    tf.keras.layers.Dense(512, activation='relu'),\n",
        "    # 5 output neurons for 5 classes with the softmax activation\n",
        "    tf.keras.layers.Dense(num_classes, activation='softmax')\n",
        "    ])\n",
        "    \n",
        "    # Optimizer and compilation\n",
        "    model.compile(loss='categorical_crossentropy',\n",
        "              optimizer=RMSprop(lr=0.001),\n",
        "              metrics=['acc'])\n",
        "    \n",
        "    # Total sample count\n",
        "    total_sample=train_generator.n\n",
        "\n",
        "    total_sample_val = val_generator.n\n",
        "    \n",
        "    # Training\n",
        "    model.fit_generator(\n",
        "        train_generator, \n",
        "        steps_per_epoch=int(total_sample/batch_size),  \n",
        "        epochs=num_epochs,\n",
        "        validation_data = val_generator,\n",
        "        validation_steps = int(total_sample_val/batch_size),\n",
        "        verbose=verbose)\n",
        "    \n",
        "    return model"
      ],
      "execution_count": 0,
      "outputs": []
    },
    {
      "cell_type": "code",
      "metadata": {
        "id": "A08zEmIfs7Qw",
        "colab_type": "code",
        "colab": {}
      },
      "source": [
        "train_directory = \"newdata/data/train/\""
      ],
      "execution_count": 0,
      "outputs": []
    },
    {
      "cell_type": "code",
      "metadata": {
        "id": "8KBtcRlKs7Dm",
        "colab_type": "code",
        "outputId": "7f6000d7-8583-497a-878f-89af8313279f",
        "colab": {
          "base_uri": "https://localhost:8080/",
          "height": 1000
        }
      },
      "source": [
        "trained_model=train_CNN(train_directory=train_directory,classes=['bike','car','motor','truck','van'],\n",
        "                        num_epochs=30,num_classes=5,verbose=1)"
      ],
      "execution_count": 19,
      "outputs": [
        {
          "output_type": "stream",
          "text": [
            "Found 2764 images belonging to 5 classes.\n",
            "Found 400 images belonging to 5 classes.\n",
            "Epoch 1/30\n",
            "20/21 [===========================>..] - ETA: 0s - loss: 1.6078 - acc: 0.2508Epoch 1/30\n",
            "21/21 [==============================] - 5s 257ms/step - loss: 1.6043 - acc: 0.2519 - val_loss: 2.3941 - val_acc: 0.2057\n",
            "Epoch 2/30\n",
            "20/21 [===========================>..] - ETA: 0s - loss: 1.6424 - acc: 0.3352Epoch 1/30\n",
            "21/21 [==============================] - 5s 227ms/step - loss: 1.6305 - acc: 0.3411 - val_loss: 1.3576 - val_acc: 0.4401\n",
            "Epoch 3/30\n",
            "20/21 [===========================>..] - ETA: 0s - loss: 1.4261 - acc: 0.4344Epoch 1/30\n",
            "21/21 [==============================] - 5s 221ms/step - loss: 1.4149 - acc: 0.4389 - val_loss: 1.1681 - val_acc: 0.5156\n",
            "Epoch 4/30\n",
            "20/21 [===========================>..] - ETA: 0s - loss: 1.2552 - acc: 0.5082Epoch 1/30\n",
            "21/21 [==============================] - 5s 215ms/step - loss: 1.2407 - acc: 0.5114 - val_loss: 0.9926 - val_acc: 0.6016\n",
            "Epoch 5/30\n",
            "20/21 [===========================>..] - ETA: 0s - loss: 1.2356 - acc: 0.5410Epoch 1/30\n",
            "21/21 [==============================] - 4s 212ms/step - loss: 1.2334 - acc: 0.5398 - val_loss: 1.3092 - val_acc: 0.4531\n",
            "Epoch 6/30\n",
            "20/21 [===========================>..] - ETA: 0s - loss: 1.1045 - acc: 0.5699Epoch 1/30\n",
            "21/21 [==============================] - 4s 208ms/step - loss: 1.1096 - acc: 0.5685 - val_loss: 1.1506 - val_acc: 0.5156\n",
            "Epoch 7/30\n",
            "20/21 [===========================>..] - ETA: 0s - loss: 0.9926 - acc: 0.6116Epoch 1/30\n",
            "21/21 [==============================] - 4s 205ms/step - loss: 0.9947 - acc: 0.6122 - val_loss: 1.0665 - val_acc: 0.5755\n",
            "Epoch 8/30\n",
            "20/21 [===========================>..] - ETA: 0s - loss: 0.9432 - acc: 0.6449Epoch 1/30\n",
            "21/21 [==============================] - 4s 209ms/step - loss: 0.9333 - acc: 0.6481 - val_loss: 0.7952 - val_acc: 0.7005\n",
            "Epoch 9/30\n",
            "20/21 [===========================>..] - ETA: 0s - loss: 0.9107 - acc: 0.6641Epoch 1/30\n",
            "21/21 [==============================] - 4s 203ms/step - loss: 0.8982 - acc: 0.6668 - val_loss: 0.7594 - val_acc: 0.7057\n",
            "Epoch 10/30\n",
            "20/21 [===========================>..] - ETA: 0s - loss: 0.8716 - acc: 0.6547Epoch 1/30\n",
            "21/21 [==============================] - 4s 201ms/step - loss: 0.8597 - acc: 0.6624 - val_loss: 1.0647 - val_acc: 0.6589\n",
            "Epoch 11/30\n",
            "20/21 [===========================>..] - ETA: 0s - loss: 0.8231 - acc: 0.6902Epoch 1/30\n",
            "21/21 [==============================] - 4s 211ms/step - loss: 0.8394 - acc: 0.6836 - val_loss: 0.8277 - val_acc: 0.6901\n",
            "Epoch 12/30\n",
            "20/21 [===========================>..] - ETA: 0s - loss: 0.7198 - acc: 0.7348Epoch 1/30\n",
            "21/21 [==============================] - 4s 207ms/step - loss: 0.7208 - acc: 0.7340 - val_loss: 0.8683 - val_acc: 0.6641\n",
            "Epoch 13/30\n",
            "20/21 [===========================>..] - ETA: 0s - loss: 0.7220 - acc: 0.7370Epoch 1/30\n",
            "21/21 [==============================] - 4s 203ms/step - loss: 0.7139 - acc: 0.7403 - val_loss: 0.8552 - val_acc: 0.6641\n",
            "Epoch 14/30\n",
            "20/21 [===========================>..] - ETA: 0s - loss: 0.6432 - acc: 0.7586Epoch 1/30\n",
            "21/21 [==============================] - 4s 210ms/step - loss: 0.6523 - acc: 0.7545 - val_loss: 1.1070 - val_acc: 0.6016\n",
            "Epoch 15/30\n",
            "20/21 [===========================>..] - ETA: 0s - loss: 0.5608 - acc: 0.7775Epoch 1/30\n",
            "21/21 [==============================] - 4s 199ms/step - loss: 0.5664 - acc: 0.7762 - val_loss: 0.7191 - val_acc: 0.7188\n",
            "Epoch 16/30\n",
            "20/21 [===========================>..] - ETA: 0s - loss: 0.4886 - acc: 0.8196Epoch 1/30\n",
            "21/21 [==============================] - 4s 209ms/step - loss: 0.5419 - acc: 0.8123 - val_loss: 1.6830 - val_acc: 0.4818\n",
            "Epoch 17/30\n",
            "20/21 [===========================>..] - ETA: 0s - loss: 0.4885 - acc: 0.8387Epoch 1/30\n",
            "21/21 [==============================] - 4s 208ms/step - loss: 0.4825 - acc: 0.8393 - val_loss: 0.7699 - val_acc: 0.7188\n",
            "Epoch 18/30\n",
            "20/21 [===========================>..] - ETA: 0s - loss: 0.3950 - acc: 0.8577Epoch 1/30\n",
            "21/21 [==============================] - 4s 205ms/step - loss: 0.3937 - acc: 0.8562 - val_loss: 0.9654 - val_acc: 0.7057\n",
            "Epoch 19/30\n",
            "20/21 [===========================>..] - ETA: 0s - loss: 0.3847 - acc: 0.8596Epoch 1/30\n",
            "21/21 [==============================] - 4s 204ms/step - loss: 0.3733 - acc: 0.8642 - val_loss: 0.6715 - val_acc: 0.7682\n",
            "Epoch 20/30\n",
            "20/21 [===========================>..] - ETA: 0s - loss: 0.3251 - acc: 0.8884Epoch 1/30\n",
            "21/21 [==============================] - 4s 209ms/step - loss: 0.3357 - acc: 0.8854 - val_loss: 0.8701 - val_acc: 0.7396\n",
            "Epoch 21/30\n",
            "20/21 [===========================>..] - ETA: 0s - loss: 0.2971 - acc: 0.9007Epoch 1/30\n",
            "21/21 [==============================] - 4s 200ms/step - loss: 0.2883 - acc: 0.9048 - val_loss: 0.7503 - val_acc: 0.7578\n",
            "Epoch 22/30\n",
            "20/21 [===========================>..] - ETA: 0s - loss: 0.2866 - acc: 0.9090Epoch 1/30\n",
            "21/21 [==============================] - 4s 202ms/step - loss: 0.2818 - acc: 0.9105 - val_loss: 0.7406 - val_acc: 0.7500\n",
            "Epoch 23/30\n",
            "20/21 [===========================>..] - ETA: 0s - loss: 0.2119 - acc: 0.9282Epoch 1/30\n",
            "21/21 [==============================] - 4s 199ms/step - loss: 0.2103 - acc: 0.9279 - val_loss: 0.7977 - val_acc: 0.7500\n",
            "Epoch 24/30\n",
            "20/21 [===========================>..] - ETA: 0s - loss: 0.2853 - acc: 0.9215Epoch 1/30\n",
            "21/21 [==============================] - 5s 218ms/step - loss: 0.2795 - acc: 0.9230 - val_loss: 0.8294 - val_acc: 0.7240\n",
            "Epoch 25/30\n",
            "20/21 [===========================>..] - ETA: 0s - loss: 0.0711 - acc: 0.9821Epoch 1/30\n",
            "21/21 [==============================] - 5s 221ms/step - loss: 0.0705 - acc: 0.9822 - val_loss: 1.1538 - val_acc: 0.7266\n",
            "Epoch 26/30\n",
            "20/21 [===========================>..] - ETA: 0s - loss: 0.2170 - acc: 0.9334Epoch 1/30\n",
            "21/21 [==============================] - 5s 220ms/step - loss: 0.2088 - acc: 0.9363 - val_loss: 0.8648 - val_acc: 0.7630\n",
            "Epoch 27/30\n",
            "20/21 [===========================>..] - ETA: 0s - loss: 0.0476 - acc: 0.9868Epoch 1/30\n",
            "21/21 [==============================] - 4s 213ms/step - loss: 0.0802 - acc: 0.9784 - val_loss: 1.6680 - val_acc: 0.5599\n",
            "Epoch 28/30\n",
            "20/21 [===========================>..] - ETA: 0s - loss: 0.2163 - acc: 0.9430Epoch 1/30\n",
            "21/21 [==============================] - 4s 210ms/step - loss: 0.2083 - acc: 0.9454 - val_loss: 1.0654 - val_acc: 0.7422\n",
            "Epoch 29/30\n",
            "20/21 [===========================>..] - ETA: 0s - loss: 0.0193 - acc: 0.9957Epoch 1/30\n",
            "21/21 [==============================] - 4s 210ms/step - loss: 0.1516 - acc: 0.9766 - val_loss: 2.1695 - val_acc: 0.5599\n",
            "Epoch 30/30\n",
            "20/21 [===========================>..] - ETA: 0s - loss: 0.1571 - acc: 0.9669Epoch 1/30\n",
            "21/21 [==============================] - 4s 203ms/step - loss: 0.1488 - acc: 0.9685 - val_loss: 1.0644 - val_acc: 0.7682\n"
          ],
          "name": "stdout"
        }
      ]
    },
    {
      "cell_type": "code",
      "metadata": {
        "id": "n-sP82r4s6-c",
        "colab_type": "code",
        "colab": {}
      },
      "source": [
        "from PIL import Image\n",
        "img_bike = Image.open('newdata/data/val/bike/bike-204.jpeg')\n",
        "img_motor = Image.open('newdata/data/val/truck/truck-246.jpeg')"
      ],
      "execution_count": 0,
      "outputs": []
    },
    {
      "cell_type": "code",
      "metadata": {
        "id": "S5hY7shjs67w",
        "colab_type": "code",
        "colab": {}
      },
      "source": [
        "img_bike = img_bike.resize((200,200))\n",
        "img_motor = img_motor.resize((200,200))"
      ],
      "execution_count": 0,
      "outputs": []
    },
    {
      "cell_type": "code",
      "metadata": {
        "id": "NpapQDBes64h",
        "colab_type": "code",
        "outputId": "12a7d8d1-c624-4c1f-9c91-28d090e75d72",
        "colab": {
          "base_uri": "https://localhost:8080/",
          "height": 286
        }
      },
      "source": [
        "plt.imshow(img_motor)"
      ],
      "execution_count": 22,
      "outputs": [
        {
          "output_type": "execute_result",
          "data": {
            "text/plain": [
              "<matplotlib.image.AxesImage at 0x7f291ba9e1d0>"
            ]
          },
          "metadata": {
            "tags": []
          },
          "execution_count": 22
        },
        {
          "output_type": "display_data",
          "data": {
            "image/png": "[encoded data removed]",
            "text/plain": [
              "<Figure size 432x288 with 1 Axes>"
            ]
          },
          "metadata": {
            "tags": []
          }
        }
      ]
    },
    {
      "cell_type": "code",
      "metadata": {
        "id": "IFF3qpeUuXsL",
        "colab_type": "code",
        "colab": {}
      },
      "source": [
        "import numpy as np\n",
        "img_bike=np.expand_dims(img_bike, axis=0)\n",
        "img_motor=np.expand_dims(img_motor, axis=0)"
      ],
      "execution_count": 0,
      "outputs": []
    },
    {
      "cell_type": "code",
      "metadata": {
        "id": "PdLbDACYueRN",
        "colab_type": "code",
        "outputId": "d030b4df-3a94-4781-9d03-af3cebcbc8cb",
        "colab": {
          "base_uri": "https://localhost:8080/",
          "height": 34
        }
      },
      "source": [
        "trained_model.predict(img_motor)"
      ],
      "execution_count": 24,
      "outputs": [
        {
          "output_type": "execute_result",
          "data": {
            "text/plain": [
              "array([[0., 0., 0., 1., 0.]], dtype=float32)"
            ]
          },
          "metadata": {
            "tags": []
          },
          "execution_count": 24
        }
      ]
    },
    {
      "cell_type": "code",
      "metadata": {
        "id": "zggx9ML5yLRI",
        "colab_type": "code",
        "colab": {}
      },
      "source": [
        "!pip install -q pyyaml h5py"
      ],
      "execution_count": 0,
      "outputs": []
    },
    {
      "cell_type": "code",
      "metadata": {
        "id": "4nRGxSEe2E_Y",
        "colab_type": "code",
        "colab": {}
      },
      "source": [
        "model.save('normalmodel.h5')"
      ],
      "execution_count": 0,
      "outputs": []
    },
    {
      "cell_type": "code",
      "metadata": {
        "id": "06Jy-q7Y2Rie",
        "colab_type": "code",
        "outputId": "0fe19dfc-49fa-4202-a4b9-a6d1894eff3f",
        "colab": {
          "base_uri": "https://localhost:8080/",
          "height": 34
        }
      },
      "source": [
        "!ls"
      ],
      "execution_count": 27,
      "outputs": [
        {
          "output_type": "stream",
          "text": [
            "gdrive\tnewdata  normalmodel.h5  sample_data\n"
          ],
          "name": "stdout"
        }
      ]
    },
    {
      "cell_type": "code",
      "metadata": {
        "id": "HrlUfAjA2Skt",
        "colab_type": "code",
        "colab": {}
      },
      "source": [
        "from google.colab import files\n",
        "f = 'normalmodel.h5'\n",
        "files.download(f)"
      ],
      "execution_count": 0,
      "outputs": []
    },
    {
      "cell_type": "code",
      "metadata": {
        "id": "kJb0njiK2hgI",
        "colab_type": "code",
        "colab": {}
      },
      "source": [
        ""
      ],
      "execution_count": 0,
      "outputs": []
    }
  ]
}