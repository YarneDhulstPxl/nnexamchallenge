{
  "nbformat": 4,
  "nbformat_minor": 0,
  "metadata": {
    "colab": {
      "name": "nnexamchallenge01.ipynb",
      "provenance": [],
      "collapsed_sections": []
    },
    "kernelspec": {
      "name": "python3",
      "display_name": "Python 3"
    },
    "accelerator": "GPU"
  },
  "cells": [
    {
      "cell_type": "code",
      "metadata": {
        "id": "nQNqhxQPVO5Z",
        "colab_type": "code",
        "colab": {}
      },
      "source": [
        "%reload_ext autoreload\n",
        "%autoreload 2\n",
        "%matplotlib inline"
      ],
      "execution_count": 0,
      "outputs": []
    },
    {
      "cell_type": "code",
      "metadata": {
        "id": "yEP91cXmXRKg",
        "colab_type": "code",
        "colab": {}
      },
      "source": [
        "from google.colab import files\n",
        "import zipfile\n",
        "import io\n",
        "import os\n",
        "import matplotlib.image as mpimg\n",
        "import random\n",
        "import cv2\n",
        "import tensorflow as tf\n",
        "import matplotlib.pyplot as plt\n",
        "import matplotlib.image as mpimg"
      ],
      "execution_count": 0,
      "outputs": []
    },
    {
      "cell_type": "code",
      "metadata": {
        "id": "wiTEWOa-YX3E",
        "colab_type": "code",
        "outputId": "7250eb8c-cf9b-4987-a2e8-2652b0c167ac",
        "colab": {
          "base_uri": "https://localhost:8080/",
          "height": 34
        }
      },
      "source": [
        "from google.colab import drive\n",
        "drive.mount('/content/gdrive')"
      ],
      "execution_count": 0,
      "outputs": [
        {
          "output_type": "stream",
          "text": [
            "Drive already mounted at /content/gdrive; to attempt to forcibly remount, call drive.mount(\"/content/gdrive\", force_remount=True).\n"
          ],
          "name": "stdout"
        }
      ]
    },
    {
      "cell_type": "code",
      "metadata": {
        "id": "t0fBSJ-DY8CP",
        "colab_type": "code",
        "outputId": "0788a758-6338-4ff6-e55a-cc4ab85e47e9",
        "colab": {
          "base_uri": "https://localhost:8080/",
          "height": 34
        }
      },
      "source": [
        "!unzip -q \"/content/gdrive/My Drive/dataset/newdata.zip\""
      ],
      "execution_count": 0,
      "outputs": [
        {
          "output_type": "stream",
          "text": [
            "replace data/train/bike/bike-1.jpeg? [y]es, [n]o, [A]ll, [N]one, [r]ename: A\n"
          ],
          "name": "stdout"
        }
      ]
    },
    {
      "cell_type": "code",
      "metadata": {
        "id": "nGBW_XcAp_uo",
        "colab_type": "code",
        "outputId": "5c6bf9ec-8b3f-4d2c-e38c-37ebe33ca364",
        "colab": {
          "base_uri": "https://localhost:8080/",
          "height": 34
        }
      },
      "source": [
        "!ls data/train"
      ],
      "execution_count": 0,
      "outputs": [
        {
          "output_type": "stream",
          "text": [
            "bike  car  motor  truck  van\n"
          ],
          "name": "stdout"
        }
      ]
    },
    {
      "cell_type": "code",
      "metadata": {
        "id": "JdWVfAqqqL2i",
        "colab_type": "code",
        "outputId": "a4bb2e77-ead2-47a6-d76e-f1d8c69a68f4",
        "colab": {
          "base_uri": "https://localhost:8080/",
          "height": 34
        }
      },
      "source": [
        "batch_size = 32\n",
        "from tensorflow.keras.preprocessing.image import ImageDataGenerator\n",
        "# All images will be rescaled by 1./255\n",
        "train_datagen = ImageDataGenerator(rescale=1/255)\n",
        "# Flow training images in batches of 128 using train_datagen generator\n",
        "train_generator = train_datagen.flow_from_directory(\n",
        "        'data/train',  # This is the source directory for training images\n",
        "        target_size=(200, 200),  # All images will be resized to 200 x 200\n",
        "        batch_size=batch_size,\n",
        "        # Specify the classes explicitly\n",
        "        classes = ['bike','car','motor','truck','van'],\n",
        "        # Since we use categorical_crossentropy loss, we need categorical labels\n",
        "        class_mode='categorical')"
      ],
      "execution_count": 0,
      "outputs": [
        {
          "output_type": "stream",
          "text": [
            "Found 2764 images belonging to 5 classes.\n"
          ],
          "name": "stdout"
        }
      ]
    },
    {
      "cell_type": "code",
      "metadata": {
        "id": "RM8o7bG-qft0",
        "colab_type": "code",
        "colab": {}
      },
      "source": [
        "\n",
        "\n",
        "model = tf.keras.models.Sequential([\n",
        "    # Note the input shape is the desired size of the image 200x 200 with 3 bytes color\n",
        "    # The first convolution\n",
        "    tf.keras.layers.Conv2D(16, (3,3), activation='relu', input_shape=(200, 200, 3)),\n",
        "    tf.keras.layers.MaxPooling2D(2, 2),\n",
        "    # The second convolution\n",
        "    tf.keras.layers.Conv2D(32, (3,3), activation='relu'),\n",
        "    tf.keras.layers.MaxPooling2D(2,2),\n",
        "    # The third convolution\n",
        "    tf.keras.layers.Conv2D(64, (3,3), activation='relu'),\n",
        "    tf.keras.layers.MaxPooling2D(2,2),\n",
        "    # The fourth convolution\n",
        "    tf.keras.layers.Conv2D(64, (3,3), activation='relu'),\n",
        "    tf.keras.layers.MaxPooling2D(2,2),\n",
        "    # The fifth convolution\n",
        "    tf.keras.layers.Conv2D(64, (3,3), activation='relu'),\n",
        "    tf.keras.layers.MaxPooling2D(2,2),\n",
        "    # Flatten the results to feed into a dense layer\n",
        "    tf.keras.layers.Flatten(),\n",
        "    # 128 neuron in the fully-connected layer\n",
        "    tf.keras.layers.Dense(128, activation='relu'),\n",
        "    # 5 output neurons for 5 classes with the softmax activation\n",
        "    tf.keras.layers.Dense(5, activation='softmax')\n",
        "])"
      ],
      "execution_count": 0,
      "outputs": []
    },
    {
      "cell_type": "code",
      "metadata": {
        "id": "5TSxY6Qjq8iR",
        "colab_type": "code",
        "outputId": "9621ce1a-451d-4b30-fc0f-17fd38af28d9",
        "colab": {
          "base_uri": "https://localhost:8080/",
          "height": 595
        }
      },
      "source": [
        "model.summary()"
      ],
      "execution_count": 0,
      "outputs": [
        {
          "output_type": "stream",
          "text": [
            "Model: \"sequential_2\"\n",
            "_________________________________________________________________\n",
            "Layer (type)                 Output Shape              Param #   \n",
            "=================================================================\n",
            "conv2d_10 (Conv2D)           (None, 198, 198, 16)      448       \n",
            "_________________________________________________________________\n",
            "max_pooling2d_10 (MaxPooling (None, 99, 99, 16)        0         \n",
            "_________________________________________________________________\n",
            "conv2d_11 (Conv2D)           (None, 97, 97, 32)        4640      \n",
            "_________________________________________________________________\n",
            "max_pooling2d_11 (MaxPooling (None, 48, 48, 32)        0         \n",
            "_________________________________________________________________\n",
            "conv2d_12 (Conv2D)           (None, 46, 46, 64)        18496     \n",
            "_________________________________________________________________\n",
            "max_pooling2d_12 (MaxPooling (None, 23, 23, 64)        0         \n",
            "_________________________________________________________________\n",
            "conv2d_13 (Conv2D)           (None, 21, 21, 64)        36928     \n",
            "_________________________________________________________________\n",
            "max_pooling2d_13 (MaxPooling (None, 10, 10, 64)        0         \n",
            "_________________________________________________________________\n",
            "conv2d_14 (Conv2D)           (None, 8, 8, 64)          36928     \n",
            "_________________________________________________________________\n",
            "max_pooling2d_14 (MaxPooling (None, 4, 4, 64)          0         \n",
            "_________________________________________________________________\n",
            "flatten_2 (Flatten)          (None, 1024)              0         \n",
            "_________________________________________________________________\n",
            "dense_4 (Dense)              (None, 128)               131200    \n",
            "_________________________________________________________________\n",
            "dense_5 (Dense)              (None, 5)                 645       \n",
            "=================================================================\n",
            "Total params: 229,285\n",
            "Trainable params: 229,285\n",
            "Non-trainable params: 0\n",
            "_________________________________________________________________\n"
          ],
          "name": "stdout"
        }
      ]
    },
    {
      "cell_type": "code",
      "metadata": {
        "id": "VYmIeFj0rAEJ",
        "colab_type": "code",
        "colab": {}
      },
      "source": [
        "from tensorflow.keras.optimizers import RMSprop\n",
        "\n",
        "model.compile(loss='categorical_crossentropy',\n",
        "              optimizer=RMSprop(lr=0.001),\n",
        "              metrics=['acc'])"
      ],
      "execution_count": 0,
      "outputs": []
    },
    {
      "cell_type": "code",
      "metadata": {
        "id": "2x6gOJUYrDha",
        "colab_type": "code",
        "colab": {}
      },
      "source": [
        "total_sample=train_generator.n"
      ],
      "execution_count": 0,
      "outputs": []
    },
    {
      "cell_type": "code",
      "metadata": {
        "id": "K5h0wBQQrLet",
        "colab_type": "code",
        "colab": {}
      },
      "source": [
        "n_epochs = 30"
      ],
      "execution_count": 0,
      "outputs": []
    },
    {
      "cell_type": "code",
      "metadata": {
        "id": "0stX9y48rSFK",
        "colab_type": "code",
        "outputId": "fd8a92b7-12c3-4c14-b3fb-40e7fb52cd3d",
        "colab": {
          "base_uri": "https://localhost:8080/",
          "height": 1000
        }
      },
      "source": [
        "history = model.fit_generator(\n",
        "        train_generator, \n",
        "        steps_per_epoch=int(total_sample/batch_size),  \n",
        "        epochs=n_epochs,\n",
        "        verbose=1)"
      ],
      "execution_count": 0,
      "outputs": [
        {
          "output_type": "stream",
          "text": [
            "Epoch 1/30\n",
            "86/86 [==============================] - 7s 76ms/step - loss: 1.4875 - acc: 0.3507\n",
            "Epoch 2/30\n",
            "86/86 [==============================] - 6s 70ms/step - loss: 1.1641 - acc: 0.5300\n",
            "Epoch 3/30\n",
            "86/86 [==============================] - 6s 69ms/step - loss: 1.0413 - acc: 0.5889\n",
            "Epoch 4/30\n",
            "86/86 [==============================] - 6s 68ms/step - loss: 0.9168 - acc: 0.6464\n",
            "Epoch 5/30\n",
            "86/86 [==============================] - 6s 68ms/step - loss: 0.8296 - acc: 0.6691\n",
            "Epoch 6/30\n",
            "86/86 [==============================] - 6s 68ms/step - loss: 0.7026 - acc: 0.7302\n",
            "Epoch 7/30\n",
            "86/86 [==============================] - 6s 68ms/step - loss: 0.6240 - acc: 0.7654\n",
            "Epoch 8/30\n",
            "86/86 [==============================] - 6s 68ms/step - loss: 0.5401 - acc: 0.7987\n",
            "Epoch 9/30\n",
            "86/86 [==============================] - 6s 68ms/step - loss: 0.4437 - acc: 0.8302\n",
            "Epoch 10/30\n",
            "86/86 [==============================] - 6s 68ms/step - loss: 0.3303 - acc: 0.8770\n",
            "Epoch 11/30\n",
            "86/86 [==============================] - 6s 67ms/step - loss: 0.2704 - acc: 0.9059\n",
            "Epoch 12/30\n",
            "86/86 [==============================] - 6s 67ms/step - loss: 0.2175 - acc: 0.9272\n",
            "Epoch 13/30\n",
            "86/86 [==============================] - 6s 68ms/step - loss: 0.1541 - acc: 0.9506\n",
            "Epoch 14/30\n",
            "86/86 [==============================] - 6s 67ms/step - loss: 0.1584 - acc: 0.9597\n",
            "Epoch 15/30\n",
            "86/86 [==============================] - 6s 67ms/step - loss: 0.1290 - acc: 0.9705\n",
            "Epoch 16/30\n",
            "86/86 [==============================] - 6s 67ms/step - loss: 0.1188 - acc: 0.9634\n",
            "Epoch 17/30\n",
            "86/86 [==============================] - 6s 67ms/step - loss: 0.0752 - acc: 0.9778\n",
            "Epoch 18/30\n",
            "86/86 [==============================] - 6s 66ms/step - loss: 0.0950 - acc: 0.9819\n",
            "Epoch 19/30\n",
            "86/86 [==============================] - 6s 67ms/step - loss: 0.0766 - acc: 0.9795\n",
            "Epoch 20/30\n",
            "86/86 [==============================] - 6s 67ms/step - loss: 0.0789 - acc: 0.9795\n",
            "Epoch 21/30\n",
            "86/86 [==============================] - 6s 69ms/step - loss: 0.0630 - acc: 0.9797\n",
            "Epoch 22/30\n",
            "86/86 [==============================] - 6s 67ms/step - loss: 0.0582 - acc: 0.9830\n",
            "Epoch 23/30\n",
            "86/86 [==============================] - 6s 67ms/step - loss: 0.0721 - acc: 0.9839\n",
            "Epoch 24/30\n",
            "86/86 [==============================] - 6s 67ms/step - loss: 0.0473 - acc: 0.9879\n",
            "Epoch 25/30\n",
            "86/86 [==============================] - 6s 66ms/step - loss: 0.0453 - acc: 0.9898\n",
            "Epoch 26/30\n",
            "86/86 [==============================] - 6s 66ms/step - loss: 0.0297 - acc: 0.9883\n",
            "Epoch 27/30\n",
            "86/86 [==============================] - 6s 67ms/step - loss: 0.0778 - acc: 0.9822\n",
            "Epoch 28/30\n",
            "86/86 [==============================] - 6s 67ms/step - loss: 0.0272 - acc: 0.9923\n",
            "Epoch 29/30\n",
            "86/86 [==============================] - 6s 66ms/step - loss: 0.0355 - acc: 0.9919\n",
            "Epoch 30/30\n",
            "86/86 [==============================] - 6s 67ms/step - loss: 0.0545 - acc: 0.9857\n"
          ],
          "name": "stdout"
        }
      ]
    },
    {
      "cell_type": "code",
      "metadata": {
        "id": "ZL-iD-iZrSDQ",
        "colab_type": "code",
        "outputId": "99b328f2-5660-4e56-d459-3e347693327f",
        "colab": {
          "base_uri": "https://localhost:8080/",
          "height": 330
        }
      },
      "source": [
        "plt.figure(figsize=(7,4))\n",
        "plt.plot([i+1 for i in range(n_epochs)],history.history['acc'],'-o',c='k',lw=2,markersize=9)\n",
        "plt.grid(True)\n",
        "plt.title(\"Training accuracy with epochs\\n\",fontsize=18)\n",
        "plt.xlabel(\"Training epochs\",fontsize=15)\n",
        "plt.ylabel(\"Training accuracy\",fontsize=15)\n",
        "plt.xticks(fontsize=15)\n",
        "plt.yticks(fontsize=15)\n",
        "plt.show()"
      ],
      "execution_count": 0,
      "outputs": [
        {
          "output_type": "display_data",
          "data": {
            "image/png": "[encoded data removed]",
            "text/plain": [
              "<Figure size 504x288 with 1 Axes>"
            ]
          },
          "metadata": {
            "tags": []
          }
        }
      ]
    },
    {
      "cell_type": "code",
      "metadata": {
        "id": "JhJNlh7isfPX",
        "colab_type": "code",
        "outputId": "c04fe3b9-b71a-4f7d-e75b-5fe6c7b09d2e",
        "colab": {
          "base_uri": "https://localhost:8080/",
          "height": 330
        }
      },
      "source": [
        "plt.figure(figsize=(7,4))\n",
        "plt.plot([i+1 for i in range(n_epochs)],history.history['loss'],'-o',c='k',lw=2,markersize=9)\n",
        "plt.grid(True)\n",
        "plt.title(\"Training loss with epochs\\n\",fontsize=18)\n",
        "plt.xlabel(\"Training epochs\",fontsize=15)\n",
        "plt.ylabel(\"Training loss\",fontsize=15)\n",
        "plt.xticks(fontsize=15)\n",
        "plt.yticks(fontsize=15)\n",
        "plt.show()"
      ],
      "execution_count": 0,
      "outputs": [
        {
          "output_type": "display_data",
          "data": {
            "image/png": "[encoded data removed]",
            "text/plain": [
              "<Figure size 504x288 with 1 Axes>"
            ]
          },
          "metadata": {
            "tags": []
          }
        }
      ]
    },
    {
      "cell_type": "code",
      "metadata": {
        "id": "bQtOMhFUshv1",
        "colab_type": "code",
        "colab": {}
      },
      "source": [
        "def train_CNN(train_directory,target_size=(200,200), classes=None,\n",
        "              batch_size=128,num_epochs=20,num_classes=5,verbose=0):\n",
        "    \"\"\"\n",
        "    Trains a conv net for the flowers dataset with a 5-class classifiction output\n",
        "    Also provides suitable arguments for extending it to other similar apps\n",
        "    \n",
        "    Arguments:\n",
        "            train_directory: The directory where the training images are stored in separate folders.\n",
        "                            These folders should be named as per the classes.\n",
        "            target_size: Target size for the training images. A tuple e.g. (200,200)\n",
        "            classes: A Python list with the classes \n",
        "            batch_size: Batch size for training\n",
        "            num_epochs: Number of epochs for training\n",
        "            num_classes: Number of output classes to consider\n",
        "            verbose: Verbosity level of the training, passed on to the `fit_generator` method\n",
        "    Returns:\n",
        "            A trained conv net model\n",
        "    \n",
        "    \"\"\"\n",
        "    from tensorflow.keras.preprocessing.image import ImageDataGenerator\n",
        "    import tensorflow as tf\n",
        "    from tensorflow.keras.optimizers import RMSprop\n",
        "    \n",
        "    # ImageDataGenerator object instance with scaling\n",
        "    train_datagen = ImageDataGenerator(rescale=1/255)\n",
        "\n",
        "    # Flow training images in batches using the generator\n",
        "    train_generator = train_datagen.flow_from_directory(\n",
        "            train_directory,  # This is the source directory for training images\n",
        "            target_size=target_size,  # All images will be resized to 200 x 200\n",
        "            batch_size=batch_size,\n",
        "            # Specify the classes explicitly\n",
        "            classes = classes,\n",
        "            # Since we use categorical_crossentropy loss, we need categorical labels\n",
        "            class_mode='categorical')\n",
        "    \n",
        "    # ImageDataGenerator object instance with scaling\n",
        "    val_datagen = ImageDataGenerator(rescale=1/255)\n",
        "    # Flow training images in batches using the generator\n",
        "    val_generator = val_datagen.flow_from_directory(\n",
        "            \"data/val/\",  # This is the source directory for val images\n",
        "            target_size=(200,200),  # All images will be resized to 200 x 200\n",
        "            batch_size=128,\n",
        "            # Specify the classes explicitly\n",
        "            classes = ['bike','car','motor','truck','van'],\n",
        "            # Since we use categorical_crossentropy loss, we need categorical labels\n",
        "            class_mode='categorical')\n",
        "    \n",
        "    input_shape = tuple(list(target_size)+[3])\n",
        "    \n",
        "    # Model architecture\n",
        "    model = tf.keras.models.Sequential([\n",
        "    # Note the input shape is the desired size of the image 200x 200 with 3 bytes color\n",
        "    # The first convolution\n",
        "    tf.keras.layers.Conv2D(16, (3,3), activation='relu', input_shape=input_shape),\n",
        "    tf.keras.layers.MaxPooling2D(2, 2),\n",
        "    # The second convolution\n",
        "    tf.keras.layers.Conv2D(32, (3,3), activation='relu'),\n",
        "    tf.keras.layers.MaxPooling2D(2,2),\n",
        "    # The third convolution\n",
        "    tf.keras.layers.Conv2D(64, (3,3), activation='relu'),\n",
        "    tf.keras.layers.MaxPooling2D(2,2),\n",
        "    # The fourth convolution\n",
        "    tf.keras.layers.Conv2D(64, (3,3), activation='relu'),\n",
        "    tf.keras.layers.MaxPooling2D(2,2),\n",
        "    # The fifth convolution\n",
        "    tf.keras.layers.Conv2D(64, (3,3), activation='relu'),\n",
        "    tf.keras.layers.MaxPooling2D(2,2),\n",
        "    # Flatten the results to feed into a dense layer\n",
        "    tf.keras.layers.Flatten(),\n",
        "    # 512 neuron in the fully-connected layer\n",
        "    tf.keras.layers.Dense(512, activation='relu'),\n",
        "    # 5 output neurons for 5 classes with the softmax activation\n",
        "    tf.keras.layers.Dense(num_classes, activation='softmax')\n",
        "    ])\n",
        "    \n",
        "    # Optimizer and compilation\n",
        "    model.compile(loss='categorical_crossentropy',\n",
        "              optimizer=RMSprop(lr=0.001),\n",
        "              metrics=['acc'])\n",
        "    \n",
        "    # Total sample count\n",
        "    total_sample=train_generator.n\n",
        "\n",
        "    total_sample_val = val_generator.n\n",
        "    \n",
        "    # Training\n",
        "    model.fit_generator(\n",
        "        train_generator, \n",
        "        steps_per_epoch=int(total_sample/batch_size),  \n",
        "        epochs=num_epochs,\n",
        "        validation_data = val_generator,\n",
        "        validation_steps = int(total_sample_val/batch_size)\n",
        "        verbose=verbose)\n",
        "    \n",
        "    return model"
      ],
      "execution_count": 0,
      "outputs": []
    },
    {
      "cell_type": "code",
      "metadata": {
        "id": "A08zEmIfs7Qw",
        "colab_type": "code",
        "colab": {}
      },
      "source": [
        "train_directory = \"data/train/\""
      ],
      "execution_count": 0,
      "outputs": []
    },
    {
      "cell_type": "code",
      "metadata": {
        "id": "8KBtcRlKs7Dm",
        "colab_type": "code",
        "outputId": "e10aaf2e-b1cb-46ce-aaee-1feb55aefddc",
        "colab": {
          "base_uri": "https://localhost:8080/",
          "height": 1000
        }
      },
      "source": [
        "trained_model=train_CNN(train_directory=train_directory,classes=['bike','car','motor','truck','van'],\n",
        "                        num_epochs=30,num_classes=5,verbose=1)"
      ],
      "execution_count": 0,
      "outputs": [
        {
          "output_type": "stream",
          "text": [
            "Found 2764 images belonging to 5 classes.\n",
            "Epoch 1/30\n",
            "21/21 [==============================] - 6s 271ms/step - loss: 1.6214 - acc: 0.2883\n",
            "Epoch 2/30\n",
            "21/21 [==============================] - 5s 242ms/step - loss: 1.5572 - acc: 0.3312\n",
            "Epoch 3/30\n",
            "21/21 [==============================] - 5s 245ms/step - loss: 1.3295 - acc: 0.4636\n",
            "Epoch 4/30\n",
            "21/21 [==============================] - 5s 245ms/step - loss: 1.2279 - acc: 0.5144\n",
            "Epoch 5/30\n",
            "21/21 [==============================] - 5s 244ms/step - loss: 1.1135 - acc: 0.5383\n",
            "Epoch 6/30\n",
            "21/21 [==============================] - 5s 248ms/step - loss: 1.1004 - acc: 0.5606\n",
            "Epoch 7/30\n",
            "21/21 [==============================] - 5s 241ms/step - loss: 1.0130 - acc: 0.5909\n",
            "Epoch 8/30\n",
            "21/21 [==============================] - 5s 244ms/step - loss: 0.9354 - acc: 0.6294\n",
            "Epoch 9/30\n",
            "21/21 [==============================] - 5s 248ms/step - loss: 0.9022 - acc: 0.6473\n",
            "Epoch 10/30\n",
            "21/21 [==============================] - 5s 242ms/step - loss: 0.8215 - acc: 0.6741\n",
            "Epoch 11/30\n",
            "21/21 [==============================] - 5s 240ms/step - loss: 0.7750 - acc: 0.6970\n",
            "Epoch 12/30\n",
            "21/21 [==============================] - 5s 245ms/step - loss: 0.7329 - acc: 0.7151\n",
            "Epoch 13/30\n",
            "21/21 [==============================] - 5s 245ms/step - loss: 0.6702 - acc: 0.7401\n",
            "Epoch 14/30\n",
            "21/21 [==============================] - 5s 250ms/step - loss: 0.6814 - acc: 0.7470\n",
            "Epoch 15/30\n",
            "21/21 [==============================] - 5s 245ms/step - loss: 0.6120 - acc: 0.7773\n",
            "Epoch 16/30\n",
            "21/21 [==============================] - 5s 239ms/step - loss: 0.5350 - acc: 0.8026\n",
            "Epoch 17/30\n",
            "21/21 [==============================] - 5s 249ms/step - loss: 0.5052 - acc: 0.8181\n",
            "Epoch 18/30\n",
            "21/21 [==============================] - 5s 244ms/step - loss: 0.4482 - acc: 0.8373\n",
            "Epoch 19/30\n",
            "21/21 [==============================] - 5s 241ms/step - loss: 0.4025 - acc: 0.8536\n",
            "Epoch 20/30\n",
            "21/21 [==============================] - 5s 244ms/step - loss: 0.3953 - acc: 0.8505\n",
            "Epoch 21/30\n",
            "21/21 [==============================] - 5s 244ms/step - loss: 0.2947 - acc: 0.8907\n",
            "Epoch 22/30\n",
            "21/21 [==============================] - 5s 244ms/step - loss: 0.4028 - acc: 0.8775\n",
            "Epoch 23/30\n",
            "21/21 [==============================] - 5s 243ms/step - loss: 0.1435 - acc: 0.9571\n",
            "Epoch 24/30\n",
            "21/21 [==============================] - 5s 250ms/step - loss: 0.2748 - acc: 0.9107\n",
            "Epoch 25/30\n",
            "21/21 [==============================] - 5s 238ms/step - loss: 0.1410 - acc: 0.9621\n",
            "Epoch 26/30\n",
            "21/21 [==============================] - 5s 250ms/step - loss: 0.1790 - acc: 0.9475\n",
            "Epoch 27/30\n",
            "21/21 [==============================] - 5s 238ms/step - loss: 0.1791 - acc: 0.9539\n",
            "Epoch 28/30\n",
            "21/21 [==============================] - 5s 247ms/step - loss: 0.0440 - acc: 0.9924\n",
            "Epoch 29/30\n",
            "21/21 [==============================] - 5s 244ms/step - loss: 0.1518 - acc: 0.9666\n",
            "Epoch 30/30\n",
            "21/21 [==============================] - 5s 242ms/step - loss: 0.2422 - acc: 0.9476\n"
          ],
          "name": "stdout"
        }
      ]
    },
    {
      "cell_type": "code",
      "metadata": {
        "id": "n-sP82r4s6-c",
        "colab_type": "code",
        "colab": {}
      },
      "source": [
        "from PIL import Image\n",
        "img_bike = Image.open('data/val/bike/bike-204.jpeg')\n",
        "img_motor = Image.open('data/val/truck/truck-246.jpeg')"
      ],
      "execution_count": 0,
      "outputs": []
    },
    {
      "cell_type": "code",
      "metadata": {
        "id": "S5hY7shjs67w",
        "colab_type": "code",
        "colab": {}
      },
      "source": [
        "img_bike = img_bike.resize((200,200))\n",
        "img_motor = img_motor.resize((200,200))"
      ],
      "execution_count": 0,
      "outputs": []
    },
    {
      "cell_type": "code",
      "metadata": {
        "id": "NpapQDBes64h",
        "colab_type": "code",
        "outputId": "f1659573-52a5-47b2-826b-16c68ac58217",
        "colab": {
          "base_uri": "https://localhost:8080/",
          "height": 286
        }
      },
      "source": [
        "plt.imshow(img_motor)"
      ],
      "execution_count": 0,
      "outputs": [
        {
          "output_type": "execute_result",
          "data": {
            "text/plain": [
              "<matplotlib.image.AxesImage at 0x7f3c2fbdda20>"
            ]
          },
          "metadata": {
            "tags": []
          },
          "execution_count": 47
        },
        {
          "output_type": "display_data",
          "data": {
            "image/png": "[encoded data removed]",
            "text/plain": [
              "<Figure size 432x288 with 1 Axes>"
            ]
          },
          "metadata": {
            "tags": []
          }
        }
      ]
    },
    {
      "cell_type": "code",
      "metadata": {
        "id": "IFF3qpeUuXsL",
        "colab_type": "code",
        "colab": {}
      },
      "source": [
        "import numpy as np\n",
        "img_bike=np.expand_dims(img_bike, axis=0)\n",
        "img_motor=np.expand_dims(img_motor, axis=0)"
      ],
      "execution_count": 0,
      "outputs": []
    },
    {
      "cell_type": "code",
      "metadata": {
        "id": "PdLbDACYueRN",
        "colab_type": "code",
        "outputId": "5b2c1314-e91b-4aef-dff2-a7ecb35811cd",
        "colab": {
          "base_uri": "https://localhost:8080/",
          "height": 34
        }
      },
      "source": [
        "trained_model.predict(img_motor)"
      ],
      "execution_count": 0,
      "outputs": [
        {
          "output_type": "execute_result",
          "data": {
            "text/plain": [
              "array([[0., 0., 0., 1., 0.]], dtype=float32)"
            ]
          },
          "metadata": {
            "tags": []
          },
          "execution_count": 49
        }
      ]
    },
    {
      "cell_type": "code",
      "metadata": {
        "id": "zggx9ML5yLRI",
        "colab_type": "code",
        "colab": {}
      },
      "source": [
        "!pip install -q pyyaml h5py"
      ],
      "execution_count": 0,
      "outputs": []
    },
    {
      "cell_type": "code",
      "metadata": {
        "id": "4nRGxSEe2E_Y",
        "colab_type": "code",
        "colab": {}
      },
      "source": [
        "model.save('firstmodel.h5')"
      ],
      "execution_count": 0,
      "outputs": []
    },
    {
      "cell_type": "code",
      "metadata": {
        "id": "06Jy-q7Y2Rie",
        "colab_type": "code",
        "outputId": "31ee58f8-942b-4496-eb72-958623a01a68",
        "colab": {
          "base_uri": "https://localhost:8080/",
          "height": 34
        }
      },
      "source": [
        "!ls"
      ],
      "execution_count": 0,
      "outputs": [
        {
          "output_type": "stream",
          "text": [
            "data  firstmodel.h5  gdrive  sample_data\n"
          ],
          "name": "stdout"
        }
      ]
    },
    {
      "cell_type": "code",
      "metadata": {
        "id": "HrlUfAjA2Skt",
        "colab_type": "code",
        "colab": {}
      },
      "source": [
        "from google.colab import files\n",
        "f = 'firstmodel.h5'\n",
        "files.download(f)"
      ],
      "execution_count": 0,
      "outputs": []
    },
    {
      "cell_type": "code",
      "metadata": {
        "id": "kJb0njiK2hgI",
        "colab_type": "code",
        "colab": {}
      },
      "source": [
        ""
      ],
      "execution_count": 0,
      "outputs": []
    }
  ]
}